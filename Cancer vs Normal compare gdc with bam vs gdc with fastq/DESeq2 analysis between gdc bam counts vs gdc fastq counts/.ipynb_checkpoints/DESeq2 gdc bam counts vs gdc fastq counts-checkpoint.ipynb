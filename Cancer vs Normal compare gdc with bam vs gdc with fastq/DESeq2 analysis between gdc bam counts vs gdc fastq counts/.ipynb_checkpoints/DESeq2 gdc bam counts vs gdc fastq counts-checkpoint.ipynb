{
 "cells": [
  {
   "cell_type": "markdown",
   "id": "8a12bf7f",
   "metadata": {},
   "source": [
    "# DESeq2 analysis between GDC bam counts vs GDC fastq counts (both \"reprocessed\" in other notebooks)\n",
    "\n",
    "Performs DESeq2 analysis between counts generated from GDC samples via their fastq files and counts generated from GDC samples via their bam files (converted to fastq by Biobambam). Any genes labelled as DEGs by DESeq2 are noted."
   ]
  },
  {
   "cell_type": "code",
   "execution_count": null,
   "id": "c7bafe94",
   "metadata": {},
   "outputs": [],
   "source": [
    "if (!require(\"dplyr\", quietly = TRUE))\n",
    "    install.packages(\"dplyr\")\n",
    "install.packages(\"tidyverse\")\n",
    "if (!require(\"BiocManager\", quietly = TRUE))\n",
    "    install.packages(\"BiocManager\")\n",
    "BiocManager::install('locfit')\n",
    "BiocManager::install(\"EnhancedVolcano\", dependencies = T)\n",
    "BiocManager::install(\"DESeq2\", dependencies = T)\n",
    "BiocManager::install(\"biomaRt\")\n",
    "BiocManager::install(\"gplots\")\n",
    "\n",
    "# In the case EnhancedVolcano fails to install using BiocManager, pull the package off of github\n",
    "if (!require(\"EnhancedVolcano\", quietly = TRUE))\n",
    "    devtools::install_github('kevinblighe/EnhancedVolcano')\n",
    "\n",
    "install.packages('devtools')\n",
    "\n",
    "install.packages(\"readxl\")\n",
    "install.packages(\"tibble\")"
   ]
  },
  {
   "cell_type": "code",
   "execution_count": null,
   "id": "c89c49a6",
   "metadata": {},
   "outputs": [],
   "source": [
    "# Import libraries\n",
    "library(\"dplyr\")\n",
    "library(\"readxl\")\n",
    "library(\"DESeq2\")\n",
    "library(\"EnhancedVolcano\")\n",
    "library(\"gplots\")\n",
    "library(\"tibble\")"
   ]
  },
  {
   "cell_type": "code",
   "execution_count": null,
   "id": "f799755b",
   "metadata": {},
   "outputs": [],
   "source": [
    "# Load counts files\n",
    "filenames <- list.files(pattern = \".counts\", full.names = T, include.dirs = F)\n",
    "filenames\n",
    "\n",
    "# Store all counts data in list of dataframes\n",
    "counts <- list()\n",
    "for (i in seq_along(filenames)) {\n",
    "    counts[[i]] <- read.table(file = filenames[i], header = T, sep = \"\\t\")\n",
    "    # Remove decimals and numbers after decimals\n",
    "    counts[[i]]$genes <- sub(\"\\\\..*\", \"\", counts[[i]]$genes)\n",
    "    # Remove any duplicate listed genes\n",
    "    counts[[i]] <- counts[[i]] %>% distinct(genes, .keep_all = T)\n",
    "}\n",
    "\n",
    "names(counts) <- list.files(pattern = \".counts\")\n",
    "\n",
    "# Seperate counts from fastq and counts from bam\n",
    "fastq.counts <-counts[grep(\"_fastq\", names(counts))]\n",
    "bam.counts <-counts[grep(\"_bam\", names(counts))]"
   ]
  },
  {
   "cell_type": "markdown",
   "id": "197dd4bd",
   "metadata": {},
   "source": [
    "### Functions for analysis"
   ]
  },
  {
   "cell_type": "code",
   "execution_count": null,
   "id": "a568bede",
   "metadata": {},
   "outputs": [],
   "source": [
    "# A function to select subset of dataframes to analyze in DESeq2.\n",
    "# Returns one dataframe containing GTEx and GDC samples aand their counts, genes listed as row names.\n",
    "createDataframe <- function(dfList1, dfList2) {\n",
    "    # Combine GTEx and GDC dataframes to one list\n",
    "    counts.combined <- c(dfList1, dfList2)\n",
    "\n",
    "    # Merge all dataframes in list into one dataframe based on \"genes\" column (non-overlapping genes removed)\n",
    "    counts.combined.df <- Reduce(function(...) merge(..., by = 'genes'), counts.combined)\n",
    "\n",
    "    # Remove any duplicate listed genes\n",
    "    counts.combined.df <- counts.combined.df %>% distinct(genes, .keep_all = T)\n",
    "\n",
    "    # Make genes column as row names, remove from dataframe\n",
    "    dimnames(counts.combined.df)[[1]] <- counts.combined.df[,1]\n",
    "    counts.combined.df <- counts.combined.df[, -1]\n",
    "    \n",
    "    return(counts.combined.df)\n",
    "}\n",
    "\n",
    "# A function to create annotation dataframe from dataframe input, returns the annotation dataframe.\n",
    "# Returns one dataframe containing the sample and their condition for DESeq2, \"meta\" dataframe\n",
    "createAnnotations <- function(df) {\n",
    "    colName <- colnames(df)\n",
    "    condition <- vector()\n",
    "    for (col in colName) {\n",
    "        if (grepl(\"_bam\", col, fixed = T)) {\n",
    "            # column is bam, label as \"disease\"\n",
    "            condition <- append(condition, \"bam\")\n",
    "        } else {\n",
    "            # column is fastq, label as \"normal\"\n",
    "            condition <- append(condition, \"fastq\")\n",
    "        }\n",
    "    }\n",
    "    \n",
    "    return(data.frame(colName, condition))\n",
    "}\n",
    "                                 \n",
    "# A function to get DESEQDataSet (dds) and perform DESeq on it, returns the dds after DESeq\n",
    "# Inputs are the counts dataframe and meta dataframe\n",
    "# Returns DESEQDataSet output and perform DESeq on it\n",
    "performDeseq <- function(countDf, metaDf) {\n",
    "    dds <- DESeqDataSetFromMatrix(countData = round(countDf), colData = metaDf, design= ~ condition)\n",
    "    dds <- DESeq(dds)\n",
    "    return(dds)\n",
    "}"
   ]
  },
  {
   "cell_type": "markdown",
   "id": "2151d215",
   "metadata": {},
   "source": [
    "### Setup dataframes and metadata for DESeq2"
   ]
  },
  {
   "cell_type": "code",
   "execution_count": null,
   "id": "5c74d9d4",
   "metadata": {},
   "outputs": [],
   "source": [
    "# DESeq2 counts in one dataframe\n",
    "bamvsfastq.counts <- createDataframe(fastq.counts, bam.counts)\n",
    "\n",
    "dim(bamvsfastq.counts)\n",
    "head(bamvsfastq.counts)"
   ]
  },
  {
   "cell_type": "code",
   "execution_count": null,
   "id": "1d84c3ea",
   "metadata": {},
   "outputs": [],
   "source": [
    "# DESeq2 meta data setup\n",
    "bamvsfastq.counts.meta <- createAnnotations(bamvsfastq.counts)\n",
    "bamvsfastq.counts.meta"
   ]
  },
  {
   "cell_type": "markdown",
   "id": "1753ec9e",
   "metadata": {},
   "source": [
    "### DESeq2, alpha = 0.01"
   ]
  },
  {
   "cell_type": "code",
   "execution_count": null,
   "id": "985a0902",
   "metadata": {},
   "outputs": [],
   "source": [
    "# Get DESEQDataSet (dds) and perform DESeq on it\n",
    "bamvsfastq.dds <- performDeseq(bamvsfastq.counts, bamvsfastq.counts.meta)\n",
    "\n",
    "# Get the result from DESeq2 into dataframe\n",
    "bamvsfastq.dds.res <- results(bamvsfastq.dds, alpha = 0.01)"
   ]
  },
  {
   "cell_type": "code",
   "execution_count": null,
   "id": "d7f85fe6",
   "metadata": {},
   "outputs": [],
   "source": [
    "bamvsfastq.dds.res"
   ]
  },
  {
   "cell_type": "code",
   "execution_count": null,
   "id": "f4fd9e22",
   "metadata": {},
   "outputs": [],
   "source": [
    "sum(bamvsfastq.dds.res$padj < 0.01, na.rm = T)\n",
    "\n",
    "# out of...\n",
    "dim(bamvsfastq.counts)"
   ]
  },
  {
   "cell_type": "code",
   "execution_count": null,
   "id": "490bf0c0",
   "metadata": {},
   "outputs": [],
   "source": [
    "# Make a volcano plot for results\n",
    "EnhancedVolcano(bamvsfastq.dds.res,\n",
    "    lab = rownames(bamvsfastq.dds.res),\n",
    "    title = \"Volcano Plot for results\",\n",
    "    x = 'log2FoldChange',\n",
    "    y = 'padj',\n",
    "    pCutoff = 0.01)"
   ]
  },
  {
   "cell_type": "code",
   "execution_count": null,
   "id": "6b8edbf6",
   "metadata": {},
   "outputs": [],
   "source": [
    "# Convert DESeq2 results as dataframe, sorted padj value in ascending order\n",
    "bamvsfastq.dds.res.df <- as.data.frame(bamvsfastq.dds.res[order(bamvsfastq.dds.res$padj),])"
   ]
  }
 ],
 "metadata": {
  "kernelspec": {
   "display_name": "R",
   "language": "R",
   "name": "ir"
  },
  "language_info": {
   "codemirror_mode": "r",
   "file_extension": ".r",
   "mimetype": "text/x-r-source",
   "name": "R",
   "pygments_lexer": "r",
   "version": "4.1.3"
  }
 },
 "nbformat": 4,
 "nbformat_minor": 5
}
